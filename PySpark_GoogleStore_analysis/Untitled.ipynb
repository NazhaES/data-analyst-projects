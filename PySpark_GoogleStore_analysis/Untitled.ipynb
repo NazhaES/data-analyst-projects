{
 "cells": [
  {
   "cell_type": "raw",
   "id": "c1b6bcaa-4340-447d-a40c-6525835607fb",
   "metadata": {},
   "source": [
    "1. Find out Top 10 Reviews given to apps\n",
    "2. Top 10 installs apps and distribution of type (free/ paid)\n",
    "3. Category wise distribution of installed apps\n",
    "4. Top paid apps\n",
    "5. Top paid rating apps"
   ]
  },
  {
   "cell_type": "markdown",
   "id": "4fa64a9b-cef5-4e97-acb8-9fb125379dd5",
   "metadata": {},
   "source": [
    "Import packages"
   ]
  },
  {
   "cell_type": "code",
   "execution_count": 168,
   "id": "60b7cbce-c5b0-4cbf-84bf-b1f446ee11f8",
   "metadata": {},
   "outputs": [],
   "source": [
    "from pyspark.sql import SparkSession\n",
    "from pyspark.sql.types import StructType, StructField, StringType, IntegerType\n",
    "from pyspark.sql.functions import *"
   ]
  },
  {
   "cell_type": "markdown",
   "id": "8275672f-932c-4553-b8dc-077b8305c52d",
   "metadata": {},
   "source": [
    "Data Understunding"
   ]
  },
  {
   "cell_type": "code",
   "execution_count": 169,
   "id": "fdc673bd-7392-42bd-ab69-c8c791ba7b61",
   "metadata": {},
   "outputs": [],
   "source": [
    "# Create a SparkSession\n",
    "spark = SparkSession.builder \\\n",
    "    .appName(\"Read CSV into DataFrame\") \\\n",
    "    .getOrCreate()\n",
    "\n",
    "# Read CSV file into DataFrame\n",
    "df = spark.read.load('data/googleplaystore.csv', format='csv', sep=',', header=True, inferSchema=True)"
   ]
  },
  {
   "cell_type": "code",
   "execution_count": 170,
   "id": "063ff3f4-229d-4795-9cc0-0bfd53459be5",
   "metadata": {},
   "outputs": [
    {
     "data": {
      "text/plain": [
       "10841"
      ]
     },
     "execution_count": 170,
     "metadata": {},
     "output_type": "execute_result"
    }
   ],
   "source": [
    "df.count()"
   ]
  },
  {
   "cell_type": "code",
   "execution_count": 171,
   "id": "ea0881c3-2907-4408-9a82-a409f2fa7778",
   "metadata": {},
   "outputs": [
    {
     "name": "stdout",
     "output_type": "stream",
     "text": [
      "+--------------------+--------------+------+-------+----+-----------+----+-----+--------------+--------------------+------------------+------------------+------------+\n",
      "|                 App|      Category|Rating|Reviews|Size|   Installs|Type|Price|Content Rating|              Genres|      Last Updated|       Current Ver| Android Ver|\n",
      "+--------------------+--------------+------+-------+----+-----------+----+-----+--------------+--------------------+------------------+------------------+------------+\n",
      "|Photo Editor & Ca...|ART_AND_DESIGN|   4.1|    159| 19M|    10,000+|Free|    0|      Everyone|        Art & Design|   January 7, 2018|             1.0.0|4.0.3 and up|\n",
      "| Coloring book moana|ART_AND_DESIGN|   3.9|    967| 14M|   500,000+|Free|    0|      Everyone|Art & Design;Pret...|  January 15, 2018|             2.0.0|4.0.3 and up|\n",
      "|U Launcher Lite –...|ART_AND_DESIGN|   4.7|  87510|8.7M| 5,000,000+|Free|    0|      Everyone|        Art & Design|    August 1, 2018|             1.2.4|4.0.3 and up|\n",
      "|Sketch - Draw & P...|ART_AND_DESIGN|   4.5| 215644| 25M|50,000,000+|Free|    0|          Teen|        Art & Design|      June 8, 2018|Varies with device|  4.2 and up|\n",
      "|Pixel Draw - Numb...|ART_AND_DESIGN|   4.3|    967|2.8M|   100,000+|Free|    0|      Everyone|Art & Design;Crea...|     June 20, 2018|               1.1|  4.4 and up|\n",
      "|Paper flowers ins...|ART_AND_DESIGN|   4.4|    167|5.6M|    50,000+|Free|    0|      Everyone|        Art & Design|    March 26, 2017|               1.0|  2.3 and up|\n",
      "|Smoke Effect Phot...|ART_AND_DESIGN|   3.8|    178| 19M|    50,000+|Free|    0|      Everyone|        Art & Design|    April 26, 2018|               1.1|4.0.3 and up|\n",
      "|    Infinite Painter|ART_AND_DESIGN|   4.1|  36815| 29M| 1,000,000+|Free|    0|      Everyone|        Art & Design|     June 14, 2018|          6.1.61.1|  4.2 and up|\n",
      "|Garden Coloring Book|ART_AND_DESIGN|   4.4|  13791| 33M| 1,000,000+|Free|    0|      Everyone|        Art & Design|September 20, 2017|             2.9.2|  3.0 and up|\n",
      "|Kids Paint Free -...|ART_AND_DESIGN|   4.7|    121|3.1M|    10,000+|Free|    0|      Everyone|Art & Design;Crea...|      July 3, 2018|               2.8|4.0.3 and up|\n",
      "|Text on Photo - F...|ART_AND_DESIGN|   4.4|  13880| 28M| 1,000,000+|Free|    0|      Everyone|        Art & Design|  October 27, 2017|             1.0.4|  4.1 and up|\n",
      "|Name Art Photo Ed...|ART_AND_DESIGN|   4.4|   8788| 12M| 1,000,000+|Free|    0|      Everyone|        Art & Design|     July 31, 2018|            1.0.15|  4.0 and up|\n",
      "|Tattoo Name On My...|ART_AND_DESIGN|   4.2|  44829| 20M|10,000,000+|Free|    0|          Teen|        Art & Design|     April 2, 2018|               3.8|  4.1 and up|\n",
      "|Mandala Coloring ...|ART_AND_DESIGN|   4.6|   4326| 21M|   100,000+|Free|    0|      Everyone|        Art & Design|     June 26, 2018|             1.0.4|  4.4 and up|\n",
      "|3D Color Pixel by...|ART_AND_DESIGN|   4.4|   1518| 37M|   100,000+|Free|    0|      Everyone|        Art & Design|    August 3, 2018|             1.2.3|  2.3 and up|\n",
      "|Learn To Draw Kaw...|ART_AND_DESIGN|   3.2|     55|2.7M|     5,000+|Free|    0|      Everyone|        Art & Design|      June 6, 2018|               NaN|  4.2 and up|\n",
      "|Photo Designer - ...|ART_AND_DESIGN|   4.7|   3632|5.5M|   500,000+|Free|    0|      Everyone|        Art & Design|     July 31, 2018|               3.1|  4.1 and up|\n",
      "|350 Diy Room Deco...|ART_AND_DESIGN|   4.5|     27| 17M|    10,000+|Free|    0|      Everyone|        Art & Design|  November 7, 2017|               1.0|  2.3 and up|\n",
      "|FlipaClip - Carto...|ART_AND_DESIGN|   4.3| 194216| 39M| 5,000,000+|Free|    0|      Everyone|        Art & Design|    August 3, 2018|             2.2.5|4.0.3 and up|\n",
      "|        ibis Paint X|ART_AND_DESIGN|   4.6| 224399| 31M|10,000,000+|Free|    0|      Everyone|        Art & Design|     July 30, 2018|             5.5.4|  4.1 and up|\n",
      "+--------------------+--------------+------+-------+----+-----------+----+-----+--------------+--------------------+------------------+------------------+------------+\n",
      "only showing top 20 rows\n",
      "\n"
     ]
    }
   ],
   "source": [
    "df.show()"
   ]
  },
  {
   "cell_type": "code",
   "execution_count": 172,
   "id": "ed78a6b4-0288-43f5-995c-87abec8a5565",
   "metadata": {},
   "outputs": [
    {
     "name": "stdout",
     "output_type": "stream",
     "text": [
      "root\n",
      " |-- App: string (nullable = true)\n",
      " |-- Category: string (nullable = true)\n",
      " |-- Rating: string (nullable = true)\n",
      " |-- Reviews: string (nullable = true)\n",
      " |-- Size: string (nullable = true)\n",
      " |-- Installs: string (nullable = true)\n",
      " |-- Type: string (nullable = true)\n",
      " |-- Price: string (nullable = true)\n",
      " |-- Content Rating: string (nullable = true)\n",
      " |-- Genres: string (nullable = true)\n",
      " |-- Last Updated: string (nullable = true)\n",
      " |-- Current Ver: string (nullable = true)\n",
      " |-- Android Ver: string (nullable = true)\n",
      "\n"
     ]
    }
   ],
   "source": [
    "df.printSchema()"
   ]
  },
  {
   "cell_type": "markdown",
   "id": "55da4446-711f-4cbd-b2fd-122e9c8cc53c",
   "metadata": {},
   "source": [
    "Data Cleaning"
   ]
  },
  {
   "cell_type": "code",
   "execution_count": 173,
   "id": "45e7eaf3-72f1-40ec-a62d-4e4caf049e8e",
   "metadata": {},
   "outputs": [],
   "source": [
    "df = df.drop('Size', 'Content Rating', 'Last Updated', 'Android Ver', 'Current Ver')"
   ]
  },
  {
   "cell_type": "code",
   "execution_count": 174,
   "id": "aa8ab2f0-a608-4d7f-b0f7-567a3d2fb923",
   "metadata": {},
   "outputs": [
    {
     "data": {
      "text/plain": [
       "['App', 'Category', 'Rating', 'Reviews', 'Installs', 'Type', 'Price', 'Genres']"
      ]
     },
     "execution_count": 174,
     "metadata": {},
     "output_type": "execute_result"
    }
   ],
   "source": [
    "df.columns"
   ]
  },
  {
   "cell_type": "code",
   "execution_count": 175,
   "id": "670a8047-3fc3-4a37-bac3-04f141552e0f",
   "metadata": {},
   "outputs": [
    {
     "name": "stdout",
     "output_type": "stream",
     "text": [
      "root\n",
      " |-- App: string (nullable = true)\n",
      " |-- Category: string (nullable = true)\n",
      " |-- Rating: string (nullable = true)\n",
      " |-- Reviews: string (nullable = true)\n",
      " |-- Installs: string (nullable = true)\n",
      " |-- Type: string (nullable = true)\n",
      " |-- Price: string (nullable = true)\n",
      " |-- Genres: string (nullable = true)\n",
      "\n"
     ]
    }
   ],
   "source": [
    "df.printSchema()"
   ]
  },
  {
   "cell_type": "code",
   "execution_count": 176,
   "id": "a73a71d6-ae35-40dd-a61f-e82fddac6278",
   "metadata": {},
   "outputs": [],
   "source": [
    "from pyspark.sql.functions import col, regexp_replace\n",
    "from pyspark.sql.types import IntegerType, DoubleType\n",
    "\n",
    "df = df.withColumn('Rating', col('Rating').cast(DoubleType())) \\\n",
    "       .withColumn('Reviews', col('Reviews').cast(IntegerType())) \\\n",
    "        .withColumn('Installs', regexp_replace('Installs', '[^0-9]', '')) \\\n",
    "        .withColumn('Installs', col('Installs').cast(IntegerType())) \\\n",
    "        .withColumn('Price', regexp_replace('Price', '\\$', '')) \\\n",
    "       .withColumn('Price', col('Price').cast(DoubleType()))"
   ]
  },
  {
   "cell_type": "code",
   "execution_count": 177,
   "id": "50b93bb1-b974-40db-b749-92350eb98e33",
   "metadata": {},
   "outputs": [
    {
     "name": "stdout",
     "output_type": "stream",
     "text": [
      "root\n",
      " |-- App: string (nullable = true)\n",
      " |-- Category: string (nullable = true)\n",
      " |-- Rating: double (nullable = true)\n",
      " |-- Reviews: integer (nullable = true)\n",
      " |-- Installs: integer (nullable = true)\n",
      " |-- Type: string (nullable = true)\n",
      " |-- Price: double (nullable = true)\n",
      " |-- Genres: string (nullable = true)\n",
      "\n"
     ]
    }
   ],
   "source": [
    "df.printSchema()"
   ]
  },
  {
   "cell_type": "code",
   "execution_count": 178,
   "id": "d51ef1d1-d769-4fc0-b29e-e18cf1ce61e8",
   "metadata": {},
   "outputs": [
    {
     "name": "stdout",
     "output_type": "stream",
     "text": [
      "1474\n"
     ]
    }
   ],
   "source": [
    "from pyspark.sql.functions import isnan, col, sum\n",
    "\n",
    "nan_count = df.select(sum(isnan(col(\"Rating\")).cast(\"int\")).alias(\"NaN_Count\")).collect()[0][\"NaN_Count\"]\n",
    "\n",
    "print(nan_count)"
   ]
  },
  {
   "cell_type": "code",
   "execution_count": 179,
   "id": "c43d044d-1227-409a-8a71-0afc15faeabb",
   "metadata": {},
   "outputs": [],
   "source": [
    "# Remplacer les valeurs NaN par 0.0 dans la colonne \"Rating\"\n",
    "df = df.fillna(0.0, subset=[\"Rating\"])"
   ]
  },
  {
   "cell_type": "code",
   "execution_count": 180,
   "id": "99464a1b-df55-4e56-8956-538154d3d027",
   "metadata": {},
   "outputs": [
    {
     "name": "stdout",
     "output_type": "stream",
     "text": [
      "0\n"
     ]
    }
   ],
   "source": [
    "from pyspark.sql.functions import isnan, col, sum\n",
    "\n",
    "nan_count = df.select(sum(isnan(col(\"Rating\")).cast(\"int\")).alias(\"NaN_Count\")).collect()[0][\"NaN_Count\"]\n",
    "\n",
    "print(nan_count)"
   ]
  },
  {
   "cell_type": "code",
   "execution_count": 181,
   "id": "33cb9231-7cb8-46a4-94c2-a5c8351b14af",
   "metadata": {},
   "outputs": [
    {
     "name": "stdout",
     "output_type": "stream",
     "text": [
      "+--------------------+--------------+------+-------+--------+----+-----+--------------------+\n",
      "|                 App|      Category|Rating|Reviews|Installs|Type|Price|              Genres|\n",
      "+--------------------+--------------+------+-------+--------+----+-----+--------------------+\n",
      "|Photo Editor & Ca...|ART_AND_DESIGN|   4.1|    159|   10000|Free|  0.0|        Art & Design|\n",
      "| Coloring book moana|ART_AND_DESIGN|   3.9|    967|  500000|Free|  0.0|Art & Design;Pret...|\n",
      "|U Launcher Lite –...|ART_AND_DESIGN|   4.7|  87510| 5000000|Free|  0.0|        Art & Design|\n",
      "|Sketch - Draw & P...|ART_AND_DESIGN|   4.5| 215644|50000000|Free|  0.0|        Art & Design|\n",
      "|Pixel Draw - Numb...|ART_AND_DESIGN|   4.3|    967|  100000|Free|  0.0|Art & Design;Crea...|\n",
      "|Paper flowers ins...|ART_AND_DESIGN|   4.4|    167|   50000|Free|  0.0|        Art & Design|\n",
      "|Smoke Effect Phot...|ART_AND_DESIGN|   3.8|    178|   50000|Free|  0.0|        Art & Design|\n",
      "|    Infinite Painter|ART_AND_DESIGN|   4.1|  36815| 1000000|Free|  0.0|        Art & Design|\n",
      "|Garden Coloring Book|ART_AND_DESIGN|   4.4|  13791| 1000000|Free|  0.0|        Art & Design|\n",
      "|Kids Paint Free -...|ART_AND_DESIGN|   4.7|    121|   10000|Free|  0.0|Art & Design;Crea...|\n",
      "|Text on Photo - F...|ART_AND_DESIGN|   4.4|  13880| 1000000|Free|  0.0|        Art & Design|\n",
      "|Name Art Photo Ed...|ART_AND_DESIGN|   4.4|   8788| 1000000|Free|  0.0|        Art & Design|\n",
      "|Tattoo Name On My...|ART_AND_DESIGN|   4.2|  44829|10000000|Free|  0.0|        Art & Design|\n",
      "|Mandala Coloring ...|ART_AND_DESIGN|   4.6|   4326|  100000|Free|  0.0|        Art & Design|\n",
      "|3D Color Pixel by...|ART_AND_DESIGN|   4.4|   1518|  100000|Free|  0.0|        Art & Design|\n",
      "|Learn To Draw Kaw...|ART_AND_DESIGN|   3.2|     55|    5000|Free|  0.0|        Art & Design|\n",
      "|Photo Designer - ...|ART_AND_DESIGN|   4.7|   3632|  500000|Free|  0.0|        Art & Design|\n",
      "|350 Diy Room Deco...|ART_AND_DESIGN|   4.5|     27|   10000|Free|  0.0|        Art & Design|\n",
      "|FlipaClip - Carto...|ART_AND_DESIGN|   4.3| 194216| 5000000|Free|  0.0|        Art & Design|\n",
      "|        ibis Paint X|ART_AND_DESIGN|   4.6| 224399|10000000|Free|  0.0|        Art & Design|\n",
      "+--------------------+--------------+------+-------+--------+----+-----+--------------------+\n",
      "only showing top 20 rows\n",
      "\n"
     ]
    }
   ],
   "source": [
    "df.show()"
   ]
  },
  {
   "cell_type": "code",
   "execution_count": 182,
   "id": "9fe76732-5b1a-4eef-871d-0eaeb7f03442",
   "metadata": {},
   "outputs": [],
   "source": [
    "df.createOrReplaceTempView('apps')"
   ]
  },
  {
   "cell_type": "code",
   "execution_count": 183,
   "id": "8de31113-ef89-4f6d-a13e-42d31aa236cc",
   "metadata": {},
   "outputs": [
    {
     "name": "stdout",
     "output_type": "stream",
     "text": [
      "+--------------------+--------------+------+-------+--------+----+-----+--------------------+\n",
      "|                 App|      Category|Rating|Reviews|Installs|Type|Price|              Genres|\n",
      "+--------------------+--------------+------+-------+--------+----+-----+--------------------+\n",
      "|Photo Editor & Ca...|ART_AND_DESIGN|   4.1|    159|   10000|Free|  0.0|        Art & Design|\n",
      "| Coloring book moana|ART_AND_DESIGN|   3.9|    967|  500000|Free|  0.0|Art & Design;Pret...|\n",
      "|U Launcher Lite –...|ART_AND_DESIGN|   4.7|  87510| 5000000|Free|  0.0|        Art & Design|\n",
      "|Sketch - Draw & P...|ART_AND_DESIGN|   4.5| 215644|50000000|Free|  0.0|        Art & Design|\n",
      "|Pixel Draw - Numb...|ART_AND_DESIGN|   4.3|    967|  100000|Free|  0.0|Art & Design;Crea...|\n",
      "|Paper flowers ins...|ART_AND_DESIGN|   4.4|    167|   50000|Free|  0.0|        Art & Design|\n",
      "|Smoke Effect Phot...|ART_AND_DESIGN|   3.8|    178|   50000|Free|  0.0|        Art & Design|\n",
      "|    Infinite Painter|ART_AND_DESIGN|   4.1|  36815| 1000000|Free|  0.0|        Art & Design|\n",
      "|Garden Coloring Book|ART_AND_DESIGN|   4.4|  13791| 1000000|Free|  0.0|        Art & Design|\n",
      "|Kids Paint Free -...|ART_AND_DESIGN|   4.7|    121|   10000|Free|  0.0|Art & Design;Crea...|\n",
      "|Text on Photo - F...|ART_AND_DESIGN|   4.4|  13880| 1000000|Free|  0.0|        Art & Design|\n",
      "|Name Art Photo Ed...|ART_AND_DESIGN|   4.4|   8788| 1000000|Free|  0.0|        Art & Design|\n",
      "|Tattoo Name On My...|ART_AND_DESIGN|   4.2|  44829|10000000|Free|  0.0|        Art & Design|\n",
      "|Mandala Coloring ...|ART_AND_DESIGN|   4.6|   4326|  100000|Free|  0.0|        Art & Design|\n",
      "|3D Color Pixel by...|ART_AND_DESIGN|   4.4|   1518|  100000|Free|  0.0|        Art & Design|\n",
      "|Learn To Draw Kaw...|ART_AND_DESIGN|   3.2|     55|    5000|Free|  0.0|        Art & Design|\n",
      "|Photo Designer - ...|ART_AND_DESIGN|   4.7|   3632|  500000|Free|  0.0|        Art & Design|\n",
      "|350 Diy Room Deco...|ART_AND_DESIGN|   4.5|     27|   10000|Free|  0.0|        Art & Design|\n",
      "|FlipaClip - Carto...|ART_AND_DESIGN|   4.3| 194216| 5000000|Free|  0.0|        Art & Design|\n",
      "|        ibis Paint X|ART_AND_DESIGN|   4.6| 224399|10000000|Free|  0.0|        Art & Design|\n",
      "+--------------------+--------------+------+-------+--------+----+-----+--------------------+\n",
      "only showing top 20 rows\n",
      "\n"
     ]
    }
   ],
   "source": [
    "# Exécuter la requête SQL\n",
    "result = spark.sql(\"SELECT * FROM apps\")\n",
    "\n",
    "# Afficher le résultat\n",
    "result.show()"
   ]
  },
  {
   "cell_type": "markdown",
   "id": "8edd40b3-05c8-4640-9566-b54b258bc61a",
   "metadata": {},
   "source": [
    "Top 10 Reviews given to apps"
   ]
  },
  {
   "cell_type": "code",
   "execution_count": 184,
   "id": "a65a71e7-3891-4fa1-ac15-b26b4d2c0217",
   "metadata": {},
   "outputs": [
    {
     "name": "stdout",
     "output_type": "stream",
     "text": [
      "+--------------------+------------+\n",
      "|                 App|TotalReviews|\n",
      "+--------------------+------------+\n",
      "|           Instagram|   266241989|\n",
      "|  WhatsApp Messenger|   207348304|\n",
      "|      Clash of Clans|   179558781|\n",
      "|Messenger – Text ...|   169932272|\n",
      "|      Subway Surfers|   166331958|\n",
      "|    Candy Crush Saga|   156993136|\n",
      "|            Facebook|   156286514|\n",
      "|         8 Ball Pool|    99386198|\n",
      "|        Clash Royale|    92530298|\n",
      "|            Snapchat|    68045010|\n",
      "+--------------------+------------+\n",
      "\n"
     ]
    }
   ],
   "source": [
    "# Exécuter la requête SQL\n",
    "top_10 = spark.sql(\"SELECT App, SUM(Reviews) AS TotalReviews FROM apps GROUP BY App ORDER BY TotalReviews DESC LIMIT 10\")\n",
    "\n",
    "# Afficher le résultat\n",
    "top_10.show()"
   ]
  },
  {
   "cell_type": "markdown",
   "id": "2b19d887-715e-4a0b-9892-2ee019c7eb9a",
   "metadata": {},
   "source": [
    "Top 10 installs Free apps"
   ]
  },
  {
   "cell_type": "code",
   "execution_count": 185,
   "id": "02ff090d-41d6-4f95-8cb9-3d2265117c8f",
   "metadata": {},
   "outputs": [
    {
     "name": "stdout",
     "output_type": "stream",
     "text": [
      "+--------------------+-------------+\n",
      "|            FreeApps|TotalInstalls|\n",
      "+--------------------+-------------+\n",
      "|      Subway Surfers|   6000000000|\n",
      "|           Instagram|   4000000000|\n",
      "|            Hangouts|   4000000000|\n",
      "|        Google Drive|   4000000000|\n",
      "|         Google News|   4000000000|\n",
      "|       Google Photos|   4000000000|\n",
      "|    Candy Crush Saga|   3500000000|\n",
      "|  WhatsApp Messenger|   3000000000|\n",
      "|Messenger – Text ...|   3000000000|\n",
      "|Google Chrome: Fa...|   3000000000|\n",
      "+--------------------+-------------+\n",
      "\n"
     ]
    }
   ],
   "source": [
    "# Exécuter la requête SQL\n",
    "topfree_10 = spark.sql(\"SELECT App As FreeApps, SUM(Installs) AS TotalInstalls FROM apps Where Type='Free' GROUP BY App ORDER BY TotalInstalls DESC LIMIT 10\")\n",
    "\n",
    "# Afficher le résultat\n",
    "topfree_10.show()"
   ]
  },
  {
   "cell_type": "markdown",
   "id": "17fdf387-73e3-49e3-ac8a-b21f8b5915e6",
   "metadata": {},
   "source": [
    "Top 10 installs Paid apps"
   ]
  },
  {
   "cell_type": "code",
   "execution_count": 186,
   "id": "63181b7b-82e4-4b6e-8f44-a7c1e4036574",
   "metadata": {},
   "outputs": [
    {
     "name": "stdout",
     "output_type": "stream",
     "text": [
      "+--------------------+-------------+\n",
      "|            PaidApps|TotalInstalls|\n",
      "+--------------------+-------------+\n",
      "|           Minecraft|     20000000|\n",
      "|       Hitman Sniper|     10000000|\n",
      "| Facetune - For Free|      3000000|\n",
      "|Beautiful Widgets...|      2000000|\n",
      "|          HD Widgets|      2000000|\n",
      "|              Tasker|      1000000|\n",
      "| Fruit Ninja Classic|      1000000|\n",
      "|          True Skate|      1000000|\n",
      "|   Where's My Water?|      1000000|\n",
      "| DraStic DS Emulator|      1000000|\n",
      "+--------------------+-------------+\n",
      "\n"
     ]
    }
   ],
   "source": [
    "# Exécuter la requête SQL\n",
    "toppaid_10 = spark.sql(\"SELECT App As PaidApps, SUM(Installs) AS TotalInstalls FROM apps Where Type='Paid' GROUP BY App ORDER BY TotalInstalls DESC LIMIT 10\")\n",
    "\n",
    "# Afficher le résultat\n",
    "toppaid_10.show()"
   ]
  },
  {
   "cell_type": "markdown",
   "id": "dc1795ea-aa2c-4150-bc4b-a8465fa1fd27",
   "metadata": {},
   "source": [
    "Top paid apps"
   ]
  },
  {
   "cell_type": "code",
   "execution_count": 187,
   "id": "83230994-14ae-4596-a8b3-bf61addb5b8f",
   "metadata": {},
   "outputs": [
    {
     "name": "stdout",
     "output_type": "stream",
     "text": [
      "+--------------------+----------+\n",
      "|                 App|TotalPrice|\n",
      "+--------------------+----------+\n",
      "|I'm Rich - Trump ...|     400.0|\n",
      "|most expensive ap...|    399.99|\n",
      "|  I am rich(premium)|    399.99|\n",
      "|   I Am Rich Premium|    399.99|\n",
      "|      I am Rich Plus|    399.99|\n",
      "|I'm Rich/Eu sou R...|    399.99|\n",
      "|       I Am Rich Pro|    399.99|\n",
      "|  I AM RICH PRO PLUS|    399.99|\n",
      "|           I am Rich|    399.99|\n",
      "|          I am Rich!|    399.99|\n",
      "+--------------------+----------+\n",
      "\n"
     ]
    }
   ],
   "source": [
    "# Exécuter la requête SQL\n",
    "toppaid = spark.sql(\"SELECT App , SUM(Price) AS TotalPrice FROM apps Where Type='Paid' GROUP BY App ORDER BY TotalPrice DESC LIMIT 10\")\n",
    "\n",
    "# Afficher le résultat\n",
    "toppaid.show()"
   ]
  },
  {
   "cell_type": "markdown",
   "id": "5a025543-3eb5-4621-bde4-77e12ef12c6b",
   "metadata": {},
   "source": [
    "Top paid rating apps"
   ]
  },
  {
   "cell_type": "code",
   "execution_count": 190,
   "id": "27e6af28-a688-41e4-b98c-d8beea35522d",
   "metadata": {},
   "outputs": [
    {
     "name": "stdout",
     "output_type": "stream",
     "text": [
      "+--------------------+------+\n",
      "|                 App|Rating|\n",
      "+--------------------+------+\n",
      "|     P-Home for KLWP|   5.0|\n",
      "|            Ra Ga Ba|   5.0|\n",
      "|Android P Style I...|   5.0|\n",
      "|Super Hearing Sec...|   5.0|\n",
      "|Easy Hotspot Ad Free|   5.0|\n",
      "|AJ Gray Dark Icon...|   5.0|\n",
      "|AP Art History Fl...|   5.0|\n",
      "|   AJ Blue Icon Pack|   5.0|\n",
      "|        ADS-B Driver|   5.0|\n",
      "|meStudying: AP En...|   5.0|\n",
      "+--------------------+------+\n",
      "\n"
     ]
    }
   ],
   "source": [
    "# Exécuter la requête SQL\n",
    "toppaid_rating = spark.sql(\"SELECT App , Rating  FROM apps Where Type='Paid' ORDER BY Rating DESC LIMIT 10\")\n",
    "\n",
    "# Afficher le résultat\n",
    "toppaid_rating.show()"
   ]
  },
  {
   "cell_type": "code",
   "execution_count": null,
   "id": "50a4e32c-d88e-4187-a00d-1916ea4a334d",
   "metadata": {},
   "outputs": [],
   "source": []
  }
 ],
 "metadata": {
  "kernelspec": {
   "display_name": "Python 3 (ipykernel)",
   "language": "python",
   "name": "python3"
  },
  "language_info": {
   "codemirror_mode": {
    "name": "ipython",
    "version": 3
   },
   "file_extension": ".py",
   "mimetype": "text/x-python",
   "name": "python",
   "nbconvert_exporter": "python",
   "pygments_lexer": "ipython3",
   "version": "3.11.7"
  }
 },
 "nbformat": 4,
 "nbformat_minor": 5
}
